{
 "cells": [
  {
   "cell_type": "markdown",
   "metadata": {},
   "source": [
    "# Code to clean BigCode GitHub commits dataset"
   ]
  },
  {
   "cell_type": "code",
   "execution_count": null,
   "metadata": {},
   "outputs": [],
   "source": [
    "!pip install ghdiff"
   ]
  },
  {
   "cell_type": "code",
   "execution_count": null,
   "metadata": {},
   "outputs": [],
   "source": [
    "from datasets import load_dataset, concatenate_datasets\n",
    "from huggingface_hub import hf_hub_download\n",
    "import json\n",
    "import itertools\n",
    "from collections import Counter\n",
    "import re\n",
    "from difflib import SequenceMatcher\n",
    "import ghdiff\n",
    "\n",
    "import matplotlib.pyplot as plt\n",
    "import numpy as np"
   ]
  },
  {
   "cell_type": "code",
   "execution_count": 16,
   "metadata": {},
   "outputs": [],
   "source": [
    "data_files = [\n",
    "    {\"rfilename\":\"data/diffs_10485761_11010048.jsonl\"},\n",
    "    {\"rfilename\":\"data/diffs_1048577_1572864.jsonl\"},\n",
    "    {\"rfilename\":\"data/diffs_11010049_11534336.jsonl\"},\n",
    "    {\"rfilename\":\"data/diffs_11534337_12058624.jsonl\"},\n",
    "    {\"rfilename\":\"data/diffs_12058625_12582912.jsonl\"},\n",
    "    {\"rfilename\":\"data/diffs_12582913_13107200.jsonl\"},\n",
    "    {\"rfilename\":\"data/diffs_13107201_13631488.jsonl\"},\n",
    "    {\"rfilename\":\"data/diffs_13631489_14155776.jsonl\"},\n",
    "    {\"rfilename\":\"data/diffs_14155777_14680064.jsonl\"},\n",
    "    {\"rfilename\":\"data/diffs_14680065_15204352.jsonl\"},\n",
    "    {\"rfilename\":\"data/diffs_15204353_15728640.jsonl\"},\n",
    "    {\"rfilename\":\"data/diffs_15728641_16252928.jsonl\"},\n",
    "    {\"rfilename\":\"data/diffs_1572865_2097152.jsonl\"},\n",
    "    {\"rfilename\":\"data/diffs_16252929_16777216.jsonl\"},\n",
    "    {\"rfilename\":\"data/diffs_1_524288.jsonl\"},\n",
    "    {\"rfilename\":\"data/diffs_2097153_2621440.jsonl\"},\n",
    "    {\"rfilename\":\"data/diffs_25165825_25690112.jsonl\"},\n",
    "    {\"rfilename\":\"data/diffs_25690113_26214400.jsonl\"},\n",
    "    {\"rfilename\":\"data/diffs_26214401_26738688.jsonl\"},\n",
    "    {\"rfilename\":\"data/diffs_2621441_3145728.jsonl\"},\n",
    "    {\"rfilename\":\"data/diffs_26738689_27262976.jsonl\"},\n",
    "    {\"rfilename\":\"data/diffs_27262977_27787264.jsonl\"},\n",
    "    {\"rfilename\":\"data/diffs_27787265_28311552.jsonl\"},\n",
    "    {\"rfilename\":\"data/diffs_28311553_28835840.jsonl\"},\n",
    "    {\"rfilename\":\"data/diffs_28835841_29360128.jsonl\"},\n",
    "    {\"rfilename\":\"data/diffs_29360129_29884416.jsonl\"},\n",
    "    {\"rfilename\":\"data/diffs_29884417_30408704.jsonl\"},\n",
    "    {\"rfilename\":\"data/diffs_30408705_30932992.jsonl\"},\n",
    "    {\"rfilename\":\"data/diffs_30932993_31457280.jsonl\"},\n",
    "    {\"rfilename\":\"data/diffs_31457281_31981568.jsonl\"},\n",
    "    {\"rfilename\":\"data/diffs_3145729_3670016.jsonl\"},\n",
    "    {\"rfilename\":\"data/diffs_31981569_32505856.jsonl\"},\n",
    "    {\"rfilename\":\"data/diffs_32505857_33030144.jsonl\"},\n",
    "    {\"rfilename\":\"data/diffs_33030145_33554432.jsonl\"},\n",
    "    {\"rfilename\":\"data/diffs_33554433_34078720.jsonl\"},\n",
    "    {\"rfilename\":\"data/diffs_34078721_34603008.jsonl\"},\n",
    "    {\"rfilename\":\"data/diffs_34603009_35127296.jsonl\"},\n",
    "    {\"rfilename\":\"data/diffs_35127297_35651584.jsonl\"},\n",
    "    {\"rfilename\":\"data/diffs_35651585_36175872.jsonl\"},\n",
    "    {\"rfilename\":\"data/diffs_36175873_36700160.jsonl\"},\n",
    "    {\"rfilename\":\"data/diffs_36700161_37224448.jsonl\"},\n",
    "    {\"rfilename\":\"data/diffs_3670017_4194304.jsonl\"},\n",
    "    {\"rfilename\":\"data/diffs_37224449_37748736.jsonl\"},\n",
    "    {\"rfilename\":\"data/diffs_37748737_38273024.jsonl\"},\n",
    "    {\"rfilename\":\"data/diffs_38273025_38797312.jsonl\"},\n",
    "    {\"rfilename\":\"data/diffs_38797313_39321600.jsonl\"},\n",
    "    {\"rfilename\":\"data/diffs_39321601_39845888.jsonl\"},\n",
    "    {\"rfilename\":\"data/diffs_39845889_40370176.jsonl\"},\n",
    "    {\"rfilename\":\"data/diffs_40370177_40894464.jsonl\"},\n",
    "    {\"rfilename\":\"data/diffs_40894465_41418752.jsonl\"},\n",
    "    {\"rfilename\":\"data/diffs_41418753_41943040.jsonl\"},\n",
    "    {\"rfilename\":\"data/diffs_41943041_42467328.jsonl\"},\n",
    "    {\"rfilename\":\"data/diffs_4194305_4718592.jsonl\"},\n",
    "    {\"rfilename\":\"data/diffs_42467329_42991616.jsonl\"},\n",
    "    {\"rfilename\":\"data/diffs_42991617_43515904.jsonl\"},\n",
    "    {\"rfilename\":\"data/diffs_43515905_44040192.jsonl\"},\n",
    "    {\"rfilename\":\"data/diffs_44040193_44564480.jsonl\"},\n",
    "    {\"rfilename\":\"data/diffs_44564481_45088768.jsonl\"},\n",
    "    {\"rfilename\":\"data/diffs_45088769_45613056.jsonl\"},\n",
    "    {\"rfilename\":\"data/diffs_45613057_46137344.jsonl\"},\n",
    "    {\"rfilename\":\"data/diffs_46137345_46661632.jsonl\"},\n",
    "    {\"rfilename\":\"data/diffs_46661633_47185920.jsonl\"},\n",
    "    {\"rfilename\":\"data/diffs_47185921_47710208.jsonl\"},\n",
    "    {\"rfilename\":\"data/diffs_4718593_5242880.jsonl\"},\n",
    "    {\"rfilename\":\"data/diffs_47710209_48234496.jsonl\"},\n",
    "    {\"rfilename\":\"data/diffs_48234497_48758784.jsonl\"},\n",
    "    {\"rfilename\":\"data/diffs_48758785_49283072.jsonl\"},\n",
    "    {\"rfilename\":\"data/diffs_49283073_49807360.jsonl\"},\n",
    "    {\"rfilename\":\"data/diffs_49807361_50331648.jsonl\"},\n",
    "    {\"rfilename\":\"data/diffs_50331649_50855936.jsonl\"},\n",
    "    {\"rfilename\":\"data/diffs_50855937_51380224.jsonl\"},\n",
    "    {\"rfilename\":\"data/diffs_51380225_51904512.jsonl\"},\n",
    "    {\"rfilename\":\"data/diffs_51904513_52428800.jsonl\"},\n",
    "    {\"rfilename\":\"data/diffs_52428801_52953088.jsonl\"},\n",
    "    {\"rfilename\":\"data/diffs_5242881_5767168.jsonl\"},\n",
    "    {\"rfilename\":\"data/diffs_524289_1048576.jsonl\"},\n",
    "    {\"rfilename\":\"data/diffs_52953089_53477376.jsonl\"},\n",
    "    {\"rfilename\":\"data/diffs_53477377_54001664.jsonl\"},\n",
    "    {\"rfilename\":\"data/diffs_54001665_54525952.jsonl\"},\n",
    "    {\"rfilename\":\"data/diffs_54525953_55050240.jsonl\"},\n",
    "    {\"rfilename\":\"data/diffs_55050241_55574528.jsonl\"},\n",
    "    {\"rfilename\":\"data/diffs_55574529_56098816.jsonl\"},\n",
    "    {\"rfilename\":\"data/diffs_56098817_56623104.jsonl\"},\n",
    "    {\"rfilename\":\"data/diffs_56623105_57147392.jsonl\"},\n",
    "    {\"rfilename\":\"data/diffs_57147393_57671680.jsonl\"},\n",
    "    {\"rfilename\":\"data/diffs_57671681_58195968.jsonl\"},\n",
    "    {\"rfilename\":\"data/diffs_5767169_6291456.jsonl\"},\n",
    "    {\"rfilename\":\"data/diffs_58195969_58720256.jsonl\"},\n",
    "    {\"rfilename\":\"data/diffs_58720257_59244544.jsonl\"},\n",
    "    {\"rfilename\":\"data/diffs_59244545_59768832.jsonl\"},\n",
    "    {\"rfilename\":\"data/diffs_59768833_60293120.jsonl\"},\n",
    "    {\"rfilename\":\"data/diffs_60293121_60817408.jsonl\"},\n",
    "    {\"rfilename\":\"data/diffs_60817409_61341696.jsonl\"},\n",
    "    {\"rfilename\":\"data/diffs_61341697_61865984.jsonl\"},\n",
    "    {\"rfilename\":\"data/diffs_61865985_62390272.jsonl\"},\n",
    "    {\"rfilename\":\"data/diffs_62390273_62914560.jsonl\"},\n",
    "    {\"rfilename\":\"data/diffs_62914561_63438848.jsonl\"},\n",
    "    {\"rfilename\":\"data/diffs_6291457_6815744.jsonl\"},\n",
    "    {\"rfilename\":\"data/diffs_63438849_63963136.jsonl\"},\n",
    "    {\"rfilename\":\"data/diffs_63963137_64487424.jsonl\"},\n",
    "    {\"rfilename\":\"data/diffs_64487425_65011712.jsonl\"},\n",
    "    {\"rfilename\":\"data/diffs_65011713_65536000.jsonl\"},\n",
    "    {\"rfilename\":\"data/diffs_65536001_66060288.jsonl\"},\n",
    "    {\"rfilename\":\"data/diffs_66060289_66584576.jsonl\"},\n",
    "    {\"rfilename\":\"data/diffs_66584577_67108864.jsonl\"},\n",
    "    {\"rfilename\":\"data/diffs_6815745_7340032.jsonl\"},\n",
    "    {\"rfilename\":\"data/diffs_7340033_7864320.jsonl\"},\n",
    "    {\"rfilename\":\"data/diffs_7864321_8388608.jsonl\"},\n",
    "    {\"rfilename\":\"data/diffs_8388609_8912896.jsonl\"},\n",
    "    {\"rfilename\":\"data/diffs_8912897_9437184.jsonl\"},\n",
    "    {\"rfilename\":\"data/diffs_9437185_9961472.jsonl\"},\n",
    "    {\"rfilename\":\"data/diffs_9961473_10485760.jsonl\"}\n",
    "]\n",
    "\n",
    "data_files = [data_file[\"rfilename\"] for data_file in data_files]"
   ]
  },
  {
   "cell_type": "code",
   "execution_count": 39,
   "metadata": {},
   "outputs": [],
   "source": [
    "opt_out_github_login_the_stack_12 = '''INSERT OPT OUT HERE'''.splitlines()"
   ]
  },
  {
   "cell_type": "code",
   "execution_count": 40,
   "metadata": {},
   "outputs": [],
   "source": [
    "opt_out_github_login_the_stack_12 = [el.lower() for el in opt_out_github_login_the_stack_12]"
   ]
  },
  {
   "cell_type": "code",
   "execution_count": 17,
   "metadata": {},
   "outputs": [],
   "source": [
    "def gh_diff(example):\n",
    "    example[\"gh_diff\"] = ghdiff.diff(example[\"old_contents\"],example[\"new_contents\"])\n",
    "    return example\n",
    "\n",
    "def get_line_diff_range(example):\n",
    "    old_file_start = 0\n",
    "    old_file_end = 0\n",
    "\n",
    "    new_file_start = 0\n",
    "    new_file_end = 0\n",
    "    \n",
    "    n_inserts = 0\n",
    "    n_deletes = 0\n",
    "    \n",
    "    for group in SequenceMatcher(None,example[\"old_contents\"].splitlines(),example[\"new_contents\"].splitlines()).get_grouped_opcodes():\n",
    "        group = [g for g in group if g[0]!=\"equal\"]\n",
    "        \n",
    "        for element in group:\n",
    "            if element[0]==\"insert\":\n",
    "                n_inserts += element[4]-element[3]\n",
    "            if element[0]==\"delete\":\n",
    "                n_deletes += element[2]-element[1] \n",
    "            if element[0]==\"replace\":\n",
    "                n_deletes += element[2]-element[1]\n",
    "                n_inserts += element[4]-element[3]\n",
    "\n",
    "        first, last = group[0], group[-1]\n",
    "        file1_range = (first[1], last[2])\n",
    "        file2_range = (first[3], last[4])\n",
    "        \n",
    "        old_file_start = min(file1_range[0], old_file_start)\n",
    "        old_file_end = max(file1_range[1], old_file_end)\n",
    "\n",
    "        new_file_start = min(file2_range[0], new_file_start)\n",
    "        new_file_end = max(file2_range[1], new_file_end)\n",
    "\n",
    "\n",
    "    # -2 for compatibility with gh_diff\n",
    "    example[\"old_change_start\"] = old_file_start\n",
    "    example[\"old_change_end\"] = old_file_end\n",
    "    example[\"old_change_range\"] = old_file_end - old_file_start\n",
    "\n",
    "    example[\"new_change_start\"] = new_file_start\n",
    "    example[\"new_change_end\"] = new_file_end\n",
    "    example[\"new_change_range\"] = new_file_end - new_file_start\n",
    "    \n",
    "    example[\"n_inserts\"] = n_inserts\n",
    "    example[\"n_deletes\"] = n_deletes\n",
    "    example[\"n_changes\"] = n_inserts + n_deletes\n",
    "    \n",
    "    return example"
   ]
  },
  {
   "cell_type": "code",
   "execution_count": 18,
   "metadata": {},
   "outputs": [
    {
     "data": {
      "text/plain": [
       "112"
      ]
     },
     "execution_count": 18,
     "metadata": {},
     "output_type": "execute_result"
    }
   ],
   "source": [
    "len(data_files)"
   ]
  },
  {
   "cell_type": "code",
   "execution_count": null,
   "metadata": {},
   "outputs": [],
   "source": [
    "from multiprocessing import Pool, Value\n",
    "\n",
    "counter = Value('i', 0)\n",
    "\n",
    "def init(args):\n",
    "    ''' store the counter for later use '''\n",
    "    global counter\n",
    "    counter = args\n",
    "\n",
    "def download_file(file):\n",
    "    global counter\n",
    "    print(\"start\")\n",
    "    file = hf_hub_download(\"bigcode/github-commits-diff\", file, repo_type=\"dataset\")\n",
    "    with counter.get_lock():\n",
    "        counter.value += 1\n",
    "    print(counter.value)\n",
    "    return file\n",
    "\n",
    "with Pool(16, initializer=init, initargs=(counter, )) as p:\n",
    "    _ = p.map(download_file, data_files[::2])"
   ]
  },
  {
   "cell_type": "code",
   "execution_count": 20,
   "metadata": {},
   "outputs": [],
   "source": [
    "files = [hf_hub_download(\"bigcode/github-commits-diff\", file, repo_type=\"dataset\") for file in data_files[::2]]"
   ]
  },
  {
   "cell_type": "code",
   "execution_count": 21,
   "metadata": {},
   "outputs": [],
   "source": [
    "data_folder = \"/home/leandro/.cache/huggingface/hub/datasets--bigcode--github-commits-diff/snapshots/7704908fcbfa44c37599f9bc83437beeec92d01b/\""
   ]
  },
  {
   "cell_type": "code",
   "execution_count": 29,
   "metadata": {},
   "outputs": [],
   "source": [
    "exclude = \"diffs_3145729_3670016.jsonl\" # error with file\n",
    "files = [file for file in files if not file.endswith(exclude)]"
   ]
  },
  {
   "cell_type": "code",
   "execution_count": 30,
   "metadata": {},
   "outputs": [
    {
     "data": {
      "text/plain": [
       "55"
      ]
     },
     "execution_count": 30,
     "metadata": {},
     "output_type": "execute_result"
    }
   ],
   "source": [
    "len(files)"
   ]
  },
  {
   "cell_type": "code",
   "execution_count": null,
   "metadata": {},
   "outputs": [],
   "source": [
    "from multiprocessing import Pool, Value\n",
    "\n",
    "counter = Value('i', 0)\n",
    "\n",
    "def init(args):\n",
    "    ''' store the counter for later use '''\n",
    "    global counter\n",
    "    counter = args\n",
    "\n",
    "def load_file(file):\n",
    "    global counter\n",
    "    print(\"start\")\n",
    "    file = load_dataset(\"/\".join(file.split(\"/\")[:-1]), data_files=file, split=\"train\")\n",
    "    with counter.get_lock():\n",
    "        counter.value += 1\n",
    "    print(counter.value)\n",
    "    return file\n",
    "\n",
    "with Pool(8, initializer=init, initargs=(counter, )) as p:\n",
    "    ds_list = p.map(load_file, files)"
   ]
  },
  {
   "cell_type": "code",
   "execution_count": 36,
   "metadata": {},
   "outputs": [],
   "source": [
    "ds = concatenate_datasets(ds_list)"
   ]
  },
  {
   "cell_type": "code",
   "execution_count": 37,
   "metadata": {},
   "outputs": [
    {
     "data": {
      "text/plain": [
       "28835840"
      ]
     },
     "execution_count": 37,
     "metadata": {},
     "output_type": "execute_result"
    }
   ],
   "source": [
    "len(ds)"
   ]
  },
  {
   "cell_type": "code",
   "execution_count": null,
   "metadata": {},
   "outputs": [],
   "source": [
    "ds = ds.filter(lambda x: len(x[\"old_contents\"])<100_000, num_proc=30)\n",
    "ds = ds.map(get_line_diff_range, num_proc=30)"
   ]
  },
  {
   "cell_type": "code",
   "execution_count": 49,
   "metadata": {},
   "outputs": [
    {
     "data": {
      "text/plain": [
       "Dataset({\n",
       "    features: ['commit', 'subject', 'message', 'repos', 'old_file', 'new_file', 'new_contents', 'old_contents', 'returncode', 'stderr', 'old_change_start', 'old_change_end', 'old_change_range', 'new_change_start', 'new_change_end', 'new_change_range', 'n_inserts', 'n_deletes', 'n_changes'],\n",
       "    num_rows: 27853656\n",
       "})"
      ]
     },
     "execution_count": 49,
     "metadata": {},
     "output_type": "execute_result"
    }
   ],
   "source": [
    "ds"
   ]
  },
  {
   "cell_type": "code",
   "execution_count": 50,
   "metadata": {},
   "outputs": [],
   "source": [
    "SHORT_SAMPLING = 0.1\n",
    "LONG_SAMPLING = 0.1\n",
    "\n",
    "JAVA_SAMPLING = 1.0\n",
    "\n",
    "MD_SAMPLING = 1.0\n",
    "\n",
    "\n",
    "SHORT_MSG_SAMPLING = 0.5\n",
    "\n",
    "DATA_SAMPLING = 1.0 #0.05\n",
    "DATA_EXT = {\"json\", \"yml\", \"xml\", \"html\"}\n",
    "\n",
    "BAD_SUB_MESSAGE = [\n",
    "    \"auto commit\",\n",
    "    \"update contributing\",\n",
    "    \"<?xml\"\n",
    "]\n",
    "\n",
    "BAD_MESSAGE = [\n",
    "    \"readme\",\n",
    "    \"update\",\n",
    "    \"dummy\",\n",
    "    \"updated\",\n",
    "    \"debug\",\n",
    "    \"test\",\n",
    "    \"update readme\",\n",
    "    \"update readme.md\",\n",
    "    \"updated readme.md\",\n",
    "    \"updated readme\",\n",
    "    \n",
    "]\n",
    "\n",
    "\n",
    "import random\n",
    "def commit_filter(example):\n",
    "    \n",
    "    if len(example[\"new_contents\"])==0:\n",
    "        return False\n",
    "    \n",
    "    if example[\"old_change_range\"]<=2:\n",
    "        if random.random()>SHORT_SAMPLING:\n",
    "            return False\n",
    "    \n",
    "    if example[\"old_change_range\"]>=200:\n",
    "        if random.random()>LONG_SAMPLING:\n",
    "            return False\n",
    "        \n",
    "    if example[\"old_file\"].split(\".\")[-1]==\"java\":\n",
    "        if random.random()>JAVA_SAMPLING:\n",
    "            return False\n",
    "        \n",
    "    if example[\"old_file\"].split(\".\")[-1]==\"md\":\n",
    "        if random.random()>MD_SAMPLING:\n",
    "            return False\n",
    "        \n",
    "    if example[\"old_file\"].split(\".\")[-1] in DATA_EXT:\n",
    "        if random.random()>DATA_SAMPLING:\n",
    "            return False\n",
    "        \n",
    "        \n",
    "    if len(example[\"subject\"])==0 or len(example[\"subject\"].split())==0:\n",
    "        return False\n",
    "\n",
    "    # remove samples with bad subwords\n",
    "    lower_subject = example[\"subject\"].lower()\n",
    "    for bad_msg in BAD_SUB_MESSAGE:\n",
    "        if bad_msg in lower_subject:\n",
    "            return False\n",
    "    \n",
    "    # remove samples with bad messages\n",
    "    for bad_msg in BAD_MESSAGE:\n",
    "        if bad_msg == lower_subject:\n",
    "            return False\n",
    "    \n",
    "    # subsample short messages\n",
    "    if len(lower_subject.split())<5:\n",
    "        if random.random()>SHORT_MSG_SAMPLING:\n",
    "            return False\n",
    "    \n",
    "    # version updates (e.g. v1.1.0)\n",
    "    if re.match(r\"(?:v)?\\d+\\.\\d+\\.\\d+(?=$|\\S)\", lower_subject):\n",
    "        return False\n",
    "\n",
    "    # high character/token ratio (e.g. hashes)\n",
    "    if len(example[\"subject\"])/len(example[\"subject\"].split())>20:\n",
    "        return False\n",
    "    \n",
    "    # weird messages that started with a whitespace and only contained one word\n",
    "    if lower_subject.startswith(\" \") and len(lower_subject.strip().split())==1:\n",
    "        return False\n",
    "    \n",
    "    return True"
   ]
  },
  {
   "cell_type": "code",
   "execution_count": 51,
   "metadata": {},
   "outputs": [
    {
     "data": {
      "application/vnd.jupyter.widget-view+json": {
       "model_id": "77ad2201f0644503900de9061edfd7a5",
       "version_major": 2,
       "version_minor": 0
      },
      "text/plain": [
       "Filter (num_proc=30):   0%|          | 0/27853656 [00:00<?, ? examples/s]"
      ]
     },
     "metadata": {},
     "output_type": "display_data"
    }
   ],
   "source": [
    "ds_clean = ds.filter(commit_filter, num_proc=30)"
   ]
  },
  {
   "cell_type": "code",
   "execution_count": 52,
   "metadata": {},
   "outputs": [
    {
     "data": {
      "text/plain": [
       "Dataset({\n",
       "    features: ['commit', 'subject', 'message', 'repos', 'old_file', 'new_file', 'new_contents', 'old_contents', 'returncode', 'stderr', 'old_change_start', 'old_change_end', 'old_change_range', 'new_change_start', 'new_change_end', 'new_change_range', 'n_inserts', 'n_deletes', 'n_changes'],\n",
       "    num_rows: 12249044\n",
       "})"
      ]
     },
     "execution_count": 52,
     "metadata": {},
     "output_type": "execute_result"
    }
   ],
   "source": [
    "ds_clean"
   ]
  },
  {
   "cell_type": "code",
   "execution_count": 53,
   "metadata": {},
   "outputs": [
    {
     "data": {
      "text/plain": [
       "Text(0, 0.5, 'Cumulative fraction')"
      ]
     },
     "execution_count": 53,
     "metadata": {},
     "output_type": "execute_result"
    },
    {
     "data": {
      "image/png": "[encoded data removed]",
      "text/plain": [
       "<Figure size 640x480 with 1 Axes>"
      ]
     },
     "metadata": {},
     "output_type": "display_data"
    }
   ],
   "source": [
    "plt.hist(ds_clean[\"old_change_range\"], bins=np.concatenate((np.linspace(0, 200, 101), [1e6])), cumulative=True, density=True);\n",
    "plt.xlim(0, 202)\n",
    "plt.ylim(0.0,1)\n",
    "plt.xlabel(\"Span of changes in number of lines\")\n",
    "plt.ylabel(\"Cumulative fraction\")"
   ]
  },
  {
   "cell_type": "code",
   "execution_count": 54,
   "metadata": {},
   "outputs": [
    {
     "data": {
      "text/plain": [
       "Text(0, 0.5, 'Cumulative fraction')"
      ]
     },
     "execution_count": 54,
     "metadata": {},
     "output_type": "execute_result"
    },
    {
     "data": {
      "image/png": "[encoded data removed]",
      "text/plain": [
       "<Figure size 640x480 with 1 Axes>"
      ]
     },
     "metadata": {},
     "output_type": "display_data"
    }
   ],
   "source": [
    "plt.hist([len(s.split())for s in ds_clean[\"subject\"]], bins=np.concatenate((np.linspace(0, 20, 21), [1e6])), cumulative=True, density=True);\n",
    "plt.xlim(0, 22)\n",
    "plt.ylim(0.0,1)\n",
    "plt.xlabel(\"Span of changes in number of lines\")\n",
    "plt.ylabel(\"Cumulative fraction\")"
   ]
  },
  {
   "cell_type": "code",
   "execution_count": 67,
   "metadata": {},
   "outputs": [],
   "source": [
    "FULL_RANGE_FRAC = 0.2\n",
    "RANGE=32\n",
    "\n",
    "def prepare_code(example):\n",
    "    if np.random.random()<0.2:\n",
    "        example[\"content\"] = f\"<commit_before>{example['old_contents']}<commit_msg>{example['subject']}<commit_after>{example['new_contents']}\"\n",
    "        example[\"size\"] = len(example[\"content\"])\n",
    "    else:\n",
    "        start_offset = np.random.randint(0, RANGE)\n",
    "        end_offset = np.random.randint(0, RANGE)\n",
    "\n",
    "        old_lines = example[\"old_contents\"].splitlines()\n",
    "        new_lines = example[\"new_contents\"].splitlines()\n",
    "\n",
    "        old_start = max(0, example[\"old_change_start\"]- start_offset)\n",
    "        new_start = max(0, example[\"new_change_start\"]- start_offset)\n",
    "\n",
    "        old_end = min(len(old_lines), example[\"old_change_end\"] + end_offset)\n",
    "        new_end = min(len(new_lines), example[\"new_change_end\"] + end_offset)\n",
    "\n",
    "        code_before = \"\\n\".join(old_lines[old_start:old_end])\n",
    "        code_after = \"\\n\".join(new_lines[new_start:new_end])\n",
    "        example[\"content\"] = f\"<commit_before>{code_before}<commit_msg>{example['subject']}<commit_after>{code_after}\"\n",
    "        example[\"size\"] = len(example[\"content\"])\n",
    "    return example"
   ]
  },
  {
   "cell_type": "code",
   "execution_count": 57,
   "metadata": {},
   "outputs": [
    {
     "name": "stdout",
     "output_type": "stream",
     "text": [
      "8276273\n"
     ]
    }
   ],
   "source": [
    "uniques = set([r+\"/\"+filename for filename, r in zip(ds_clean[\"old_file\"], ds_clean[\"repos\"])])\n",
    "print(len(uniques))"
   ]
  },
  {
   "cell_type": "code",
   "execution_count": 59,
   "metadata": {},
   "outputs": [
    {
     "data": {
      "text/plain": [
       "Dataset({\n",
       "    features: ['commit', 'subject', 'message', 'repos', 'old_file', 'new_file', 'new_contents', 'old_contents', 'returncode', 'stderr', 'old_change_start', 'old_change_end', 'old_change_range', 'new_change_start', 'new_change_end', 'new_change_range', 'n_inserts', 'n_deletes', 'n_changes'],\n",
       "    num_rows: 12249044\n",
       "})"
      ]
     },
     "execution_count": 59,
     "metadata": {},
     "output_type": "execute_result"
    }
   ],
   "source": [
    "ds_clean"
   ]
  },
  {
   "cell_type": "code",
   "execution_count": 60,
   "metadata": {},
   "outputs": [],
   "source": [
    "with open(\"programming-languages.json\", \"r\") as f:\n",
    "    file_exts = json.load(f)\n",
    "\n",
    "exts = set(itertools.chain.from_iterable(file_exts.values()))\n",
    "exts = {e.strip(\".\") for e in exts}"
   ]
  },
  {
   "cell_type": "code",
   "execution_count": 61,
   "metadata": {},
   "outputs": [],
   "source": [
    "def check_uniques(example, uniques):\n",
    "    \"\"\"Check if current hash is still in set of unique hashes and remove if true.\"\"\"\n",
    "    if example[\"repos\"]+\"/\"+example[\"old_file\"] in uniques:\n",
    "        uniques.remove(example[\"repos\"]+\"/\"+example[\"old_file\"])\n",
    "        return True\n",
    "    else:\n",
    "        return False\n",
    "\n",
    "def check_exts(example, exts):\n",
    "    if example[\"old_file\"].split(\".\")[-1] in exts:\n",
    "        return True\n",
    "    if example[\"old_file\"].endswith(\"Dockerfile\") or example[\"old_file\"].endswith(\"Makefile\"):\n",
    "        return True\n",
    "    return False"
   ]
  },
  {
   "cell_type": "code",
   "execution_count": null,
   "metadata": {},
   "outputs": [],
   "source": [
    "ds_clean = ds_clean.filter(check_exts, fn_kwargs={\"exts\": exts}, num_proc=30)\n",
    "ds_clean = ds_clean.filter(check_uniques, fn_kwargs={\"uniques\": uniques}, num_proc=1)"
   ]
  },
  {
   "cell_type": "code",
   "execution_count": 63,
   "metadata": {},
   "outputs": [
    {
     "data": {
      "text/plain": [
       "Dataset({\n",
       "    features: ['commit', 'subject', 'message', 'repos', 'old_file', 'new_file', 'new_contents', 'old_contents', 'returncode', 'stderr', 'old_change_start', 'old_change_end', 'old_change_range', 'new_change_start', 'new_change_end', 'new_change_range', 'n_inserts', 'n_deletes', 'n_changes'],\n",
       "    num_rows: 8273154\n",
       "})"
      ]
     },
     "execution_count": 63,
     "metadata": {},
     "output_type": "execute_result"
    }
   ],
   "source": [
    "ds_clean"
   ]
  },
  {
   "cell_type": "code",
   "execution_count": 68,
   "metadata": {},
   "outputs": [
    {
     "data": {
      "application/vnd.jupyter.widget-view+json": {
       "model_id": "4ee075beaab74d1cbc28be4091f0ca7d",
       "version_major": 2,
       "version_minor": 0
      },
      "text/plain": [
       "Map (num_proc=30):   0%|          | 0/8273154 [00:00<?, ? examples/s]"
      ]
     },
     "metadata": {},
     "output_type": "display_data"
    }
   ],
   "source": [
    "ds_clean = ds_clean.map(prepare_code, num_proc=30)"
   ]
  },
  {
   "cell_type": "code",
   "execution_count": 69,
   "metadata": {},
   "outputs": [
    {
     "data": {
      "text/plain": [
       "68.352518077"
      ]
     },
     "execution_count": 69,
     "metadata": {},
     "output_type": "execute_result"
    }
   ],
   "source": [
    "sum(ds_clean[\"size\"])/1000/1000/1000"
   ]
  },
  {
   "cell_type": "code",
   "execution_count": 73,
   "metadata": {},
   "outputs": [],
   "source": [
    "opt_out_github_login_the_stack_12 = set([el.lower() for el in opt_out_github_login_the_stack_12])"
   ]
  },
  {
   "cell_type": "code",
   "execution_count": 72,
   "metadata": {},
   "outputs": [
    {
     "data": {
      "text/plain": [
       "['keeguon/activerecord-jdbc-adapter',\n",
       " 'jruby/activerecord-jdbc-adapter',\n",
       " 'bruceadams/activerecord-jdbc-adapter',\n",
       " 'bruceadams/activerecord-jdbc-adapter',\n",
       " 'keeguon/activerecord-jdbc-adapter',\n",
       " 'kares/activerecord-jdbc-adapter',\n",
       " 'kares/activerecord-jdbc-adapter',\n",
       " 'jruby/activerecord-jdbc-adapter',\n",
       " 'jruby/activerecord-jdbc-adapter',\n",
       " 'bruceadams/activerecord-jdbc-adapter',\n",
       " 'keeguon/activerecord-jdbc-adapter',\n",
       " 'kares/activerecord-jdbc-adapter']"
      ]
     },
     "execution_count": 72,
     "metadata": {},
     "output_type": "execute_result"
    }
   ],
   "source": [
    "ds_clean[0][\"repos\"].split(\",\")"
   ]
  },
  {
   "cell_type": "code",
   "execution_count": 77,
   "metadata": {},
   "outputs": [],
   "source": [
    "def filter_opt_out(example):\n",
    "    repo_names = example[\"repos\"].split(\",\")\n",
    "    try:\n",
    "        repo_owners = [repo_name.split(\"/\")[0].lower() for repo_name in repo_names]\n",
    "    except:\n",
    "        print(example[\"repos\"])\n",
    "    filtered_repo_names = [repo_name for repo_name, repo_owner in zip(repo_names, repo_owners) if repo_owner not in opt_out_github_login_the_stack_12]\n",
    "\n",
    "    if len(filtered_repo_names)>0:\n",
    "        example[\"repos\"] = \",\".join(filtered_repo_names)\n",
    "        example[\"drop_opt_out\"] = False\n",
    "    else:\n",
    "        example[\"repos\"] = \"\"\n",
    "        example[\"drop_opt_out\"] = True\n",
    "    return example"
   ]
  },
  {
   "cell_type": "code",
   "execution_count": 99,
   "metadata": {},
   "outputs": [
    {
     "name": "stderr",
     "output_type": "stream",
     "text": [
      "Loading cached processed dataset at /home/leandro/.cache/huggingface/datasets/json/data-97311ba745a469ed/0.0.0/0f7e3662623656454fcd2b650f34e886a7db4b9104504885bd462096cc7a9f51/cache-521c393b44ec863a_*_of_00030.arrow\n"
     ]
    }
   ],
   "source": [
    "ds_opt_out = ds_clean.map(filter_opt_out, num_proc=30)"
   ]
  },
  {
   "cell_type": "code",
   "execution_count": 100,
   "metadata": {},
   "outputs": [
    {
     "data": {
      "text/plain": [
       "Dataset({\n",
       "    features: ['commit', 'subject', 'message', 'repos', 'old_file', 'new_file', 'new_contents', 'old_contents', 'returncode', 'stderr', 'old_change_start', 'old_change_end', 'old_change_range', 'new_change_start', 'new_change_end', 'new_change_range', 'n_inserts', 'n_deletes', 'n_changes', 'content', 'size', 'drop_opt_out'],\n",
       "    num_rows: 8273154\n",
       "})"
      ]
     },
     "execution_count": 100,
     "metadata": {},
     "output_type": "execute_result"
    }
   ],
   "source": [
    "ds_opt_out"
   ]
  },
  {
   "cell_type": "code",
   "execution_count": 101,
   "metadata": {},
   "outputs": [
    {
     "data": {
      "text/plain": [
       "66"
      ]
     },
     "execution_count": 101,
     "metadata": {},
     "output_type": "execute_result"
    }
   ],
   "source": [
    "sum(ds_opt_out[\"drop_opt_out\"])"
   ]
  },
  {
   "cell_type": "code",
   "execution_count": 102,
   "metadata": {},
   "outputs": [
    {
     "name": "stderr",
     "output_type": "stream",
     "text": [
      "Loading cached processed dataset at /home/leandro/.cache/huggingface/datasets/json/data-97311ba745a469ed/0.0.0/0f7e3662623656454fcd2b650f34e886a7db4b9104504885bd462096cc7a9f51/cache-58a8158cf224b45e_*_of_00030.arrow\n"
     ]
    }
   ],
   "source": [
    "ds_opt_out = ds_opt_out.filter(lambda x: not x[\"drop_opt_out\"], num_proc=30)"
   ]
  },
  {
   "cell_type": "code",
   "execution_count": 103,
   "metadata": {},
   "outputs": [
    {
     "data": {
      "text/plain": [
       "Dataset({\n",
       "    features: ['commit', 'subject', 'message', 'repos', 'old_file', 'new_file', 'new_contents', 'old_contents', 'returncode', 'stderr', 'old_change_start', 'old_change_end', 'old_change_range', 'new_change_start', 'new_change_end', 'new_change_range', 'n_inserts', 'n_deletes', 'n_changes', 'content', 'size', 'drop_opt_out'],\n",
       "    num_rows: 8273088\n",
       "})"
      ]
     },
     "execution_count": 103,
     "metadata": {},
     "output_type": "execute_result"
    }
   ],
   "source": [
    "ds_opt_out"
   ]
  },
  {
   "cell_type": "code",
   "execution_count": 104,
   "metadata": {},
   "outputs": [],
   "source": [
    "from collections import Counter\n",
    "\n",
    "c = Counter([x.split(\".\")[-1] for x in ds_opt_out[\"old_file\"]]).most_common()"
   ]
  },
  {
   "cell_type": "code",
   "execution_count": 105,
   "metadata": {},
   "outputs": [
    {
     "data": {
      "image/png": "[encoded data removed]",
      "text/plain": [
       "<Figure size 640x480 with 1 Axes>"
      ]
     },
     "metadata": {},
     "output_type": "display_data"
    }
   ],
   "source": [
    "import pandas as pd\n",
    "\n",
    "df = pd.DataFrame.from_dict({\"lang\":dict(c[:30]).keys(), \"freq\": dict(c[:30]).values()})\n",
    "ax_ = df.plot.bar(x='lang', y='freq', rot=90)\n",
    "\n"
   ]
  },
  {
   "cell_type": "code",
   "execution_count": 106,
   "metadata": {},
   "outputs": [],
   "source": [
    "DATA_SAMPLING = .5\n",
    "DATA_EXT = {\"json\", \"yml\", \"xml\", \"html\", \"yaml\"}\n",
    "\n",
    "def subsample_extensions(example):\n",
    "    if example[\"old_file\"].split(\".\")[-1] in DATA_EXT:\n",
    "        if random.random()>DATA_SAMPLING:\n",
    "            return False\n",
    "        \n",
    "    return True"
   ]
  },
  {
   "cell_type": "code",
   "execution_count": 107,
   "metadata": {},
   "outputs": [
    {
     "data": {
      "application/vnd.jupyter.widget-view+json": {
       "model_id": "d3a3211be08141b3997f4a277d464d23",
       "version_major": 2,
       "version_minor": 0
      },
      "text/plain": [
       "Filter (num_proc=30):   0%|          | 0/8273088 [00:00<?, ? examples/s]"
      ]
     },
     "metadata": {},
     "output_type": "display_data"
    }
   ],
   "source": [
    "ds_opt_out = ds_opt_out.filter(subsample_extensions, num_proc=30)"
   ]
  },
  {
   "cell_type": "code",
   "execution_count": 108,
   "metadata": {},
   "outputs": [
    {
     "data": {
      "text/plain": [
       "Dataset({\n",
       "    features: ['commit', 'subject', 'message', 'repos', 'old_file', 'new_file', 'new_contents', 'old_contents', 'returncode', 'stderr', 'old_change_start', 'old_change_end', 'old_change_range', 'new_change_start', 'new_change_end', 'new_change_range', 'n_inserts', 'n_deletes', 'n_changes', 'content', 'size', 'drop_opt_out'],\n",
       "    num_rows: 7674345\n",
       "})"
      ]
     },
     "execution_count": 108,
     "metadata": {},
     "output_type": "execute_result"
    }
   ],
   "source": [
    "ds_opt_out"
   ]
  },
  {
   "cell_type": "code",
   "execution_count": 109,
   "metadata": {},
   "outputs": [
    {
     "data": {
      "image/png": "[encoded data removed]",
      "text/plain": [
       "<Figure size 640x480 with 1 Axes>"
      ]
     },
     "metadata": {},
     "output_type": "display_data"
    }
   ],
   "source": [
    "c = Counter([x.split(\".\")[-1] for x in ds_opt_out[\"old_file\"]]).most_common()\n",
    "c\n",
    "df = pd.DataFrame.from_dict({\"lang\":dict(c[:30]).keys(), \"freq\": dict(c[:30]).values()})\n",
    "ax_ = df.plot.bar(x='lang', y='freq', rot=90)\n"
   ]
  },
  {
   "cell_type": "code",
   "execution_count": 111,
   "metadata": {},
   "outputs": [
    {
     "data": {
      "text/plain": [
       "64.448053264"
      ]
     },
     "execution_count": 111,
     "metadata": {},
     "output_type": "execute_result"
    }
   ],
   "source": [
    "sum(ds_opt_out[\"size\"])/1000/1000/1000"
   ]
  },
  {
   "cell_type": "code",
   "execution_count": 112,
   "metadata": {},
   "outputs": [
    {
     "data": {
      "text/plain": [
       "Dataset({\n",
       "    features: ['commit', 'subject', 'message', 'repos', 'old_file', 'new_file', 'new_contents', 'old_contents', 'returncode', 'stderr', 'old_change_start', 'old_change_end', 'old_change_range', 'new_change_start', 'new_change_end', 'new_change_range', 'n_inserts', 'n_deletes', 'n_changes', 'content', 'size', 'drop_opt_out'],\n",
       "    num_rows: 7674345\n",
       "})"
      ]
     },
     "execution_count": 112,
     "metadata": {},
     "output_type": "execute_result"
    }
   ],
   "source": [
    "ds_opt_out"
   ]
  },
  {
   "cell_type": "code",
   "execution_count": 121,
   "metadata": {},
   "outputs": [],
   "source": [
    "ds_final = ds_opt_out.remove_columns([\"subject\", \"message\", \"new_contents\", \"old_contents\", \"returncode\", \"stderr\", \"old_change_start\", \"old_change_end\", \"old_change_range\", \"new_change_start\", 'new_change_end', 'new_change_range', 'n_inserts', 'n_deletes', 'n_changes', \"size\",'drop_opt_out'])"
   ]
  },
  {
   "cell_type": "code",
   "execution_count": 122,
   "metadata": {},
   "outputs": [
    {
     "data": {
      "text/plain": [
       "Dataset({\n",
       "    features: ['commit', 'repos', 'old_file', 'new_file', 'content'],\n",
       "    num_rows: 7674345\n",
       "})"
      ]
     },
     "execution_count": 122,
     "metadata": {},
     "output_type": "execute_result"
    }
   ],
   "source": [
    "ds_final"
   ]
  },
  {
   "cell_type": "code",
   "execution_count": null,
   "metadata": {},
   "outputs": [],
   "source": [
    "ds_final.push_to_hub(\"git-commits-cleaned\", private=True)"
   ]
  },
  {
   "cell_type": "code",
   "execution_count": 120,
   "metadata": {},
   "outputs": [
    {
     "data": {
      "text/plain": [
       "{'commit': '9fbfcc964b11e807c7e00a910acaaafabfa18316',\n",
       " 'old_file': 'lib/arjdbc/postgresql/connection_methods.rb',\n",
       " 'new_file': 'lib/arjdbc/postgresql/connection_methods.rb',\n",
       " 'content': '<commit_before>ArJdbc::ConnectionMethods.module_eval do\\n  def postgresql_connection(config)\\n    begin\\n      require \\'jdbc/postgres\\'\\n      ::Jdbc::Postgres.load_driver(:require) if defined?(::Jdbc::Postgres.load_driver)\\n    rescue LoadError # assuming driver.jar is on the class-path\\n    end\\n\\n    host = config[:host] ||= ( config[:hostaddr] || ENV[\\'PGHOST\\'] || \\'localhost\\' )\\n    port = config[:port] ||= ( ENV[\\'PGPORT\\'] || 5432 )\\n    database = config[:database] || config[:dbname] || ENV[\\'PGDATABASE\\']\\n\\n    config[:url] ||= \"jdbc:postgresql://#{host}:#{port}/#{database}\"\\n    config[:url] << config[:pg_params] if config[:pg_params] # should go away\\n\\n    config[:username] ||= ( config[:user] || ENV[\\'PGUSER\\'] || ENV_JAVA[\\'user.name\\'] )\\n    config[:password] ||= ENV[\\'PGPASSWORD\\'] unless config.key?(:password)\\n    properties = ( config[:properties] ||= {} )\\n    # PG :connect_timeout - maximum time to wait for connection to succeed\\n    if connect_timeout = ( config[:connect_timeout] || ENV[\\'PGCONNECT_TIMEOUT\\'] )\\n      properties[\\'socketTimeout\\'] ||= connect_timeout\\n      # NOTE: maybe set options[\\'loginTimeout\\'] as well?\\n    end\\n    sslmode = config.key?(:sslmode) ? config[:sslmode] : config[:requiressl]\\n    # NOTE: makes not much sense since this needs some JVM options :\\n    # sslmode = ENV[\\'PGSSLMODE\\'] || ENV[\\'PGREQUIRESSL\\'] if sslmode.nil?\\n    unless sslmode.nil? # PG :sslmode - disable|allow|prefer|require\\n      # JRuby/JVM needs to be started with :\\n      #  -Djavax.net.ssl.trustStore=mystore -Djavax.net.ssl.trustStorePassword=...\\n      # or a non-validating connection might be used (for testing) :\\n      #  :sslfactory = \\'org.postgresql.ssl.NonValidatingFactory\\'\\n      properties[\\'ssl\\'] ||= \\'true\\' if sslmode == true || sslmode.to_s == \\'require\\'\\n    end\\n    properties[\\'tcpKeepAlive\\'] ||= config[:keepalives] if config.key?(:keepalives)\\n    properties[\\'kerberosServerName\\'] ||= config[:krbsrvname] if config[:krbsrvname]\\n\\n    config[:driver] ||= defined?(::Jdbc::Postgres.driver_name) ? ::Jdbc::Postgres.driver_name : \\'org.postgresql.Driver\\'\\n    config[:adapter_spec] ||= ::ArJdbc::PostgreSQL\\n    config[:adapter_class] = ActiveRecord::ConnectionAdapters::PostgreSQLAdapter unless config.key?(:adapter_class)\\n\\n    jdbc_connection(config)\\n  end\\n  alias_method :jdbcpostgresql_connection, :postgresql_connection\\nend\\n<commit_msg>[postgres] support :login_timeout as a standalone config option<commit_after>ArJdbc::ConnectionMethods.module_eval do\\n  def postgresql_connection(config)\\n    begin\\n      require \\'jdbc/postgres\\'\\n      ::Jdbc::Postgres.load_driver(:require) if defined?(::Jdbc::Postgres.load_driver)\\n    rescue LoadError # assuming driver.jar is on the class-path\\n    end\\n\\n    host = config[:host] ||= ( config[:hostaddr] || ENV[\\'PGHOST\\'] || \\'localhost\\' )\\n    port = config[:port] ||= ( ENV[\\'PGPORT\\'] || 5432 )\\n    database = config[:database] || config[:dbname] || ENV[\\'PGDATABASE\\']\\n\\n    config[:url] ||= \"jdbc:postgresql://#{host}:#{port}/#{database}\"\\n    config[:url] << config[:pg_params] if config[:pg_params] # should go away\\n\\n    config[:username] ||= ( config[:user] || ENV[\\'PGUSER\\'] || ENV_JAVA[\\'user.name\\'] )\\n    config[:password] ||= ENV[\\'PGPASSWORD\\'] unless config.key?(:password)\\n    properties = ( config[:properties] ||= {} )\\n    # PG :connect_timeout - maximum time to wait for connection to succeed\\n    if connect_timeout = ( config[:connect_timeout] || ENV[\\'PGCONNECT_TIMEOUT\\'] )\\n      properties[\\'socketTimeout\\'] ||= connect_timeout\\n    end\\n    if login_timeout = config[:login_timeout]\\n      properties[\\'loginTimeout\\'] ||= login_timeout\\n    end\\n    sslmode = config.key?(:sslmode) ? config[:sslmode] : config[:requiressl]\\n    # NOTE: makes not much sense since this needs some JVM options :\\n    # sslmode = ENV[\\'PGSSLMODE\\'] || ENV[\\'PGREQUIRESSL\\'] if sslmode.nil?\\n    unless sslmode.nil? # PG :sslmode - disable|allow|prefer|require\\n      # JRuby/JVM needs to be started with :\\n      #  -Djavax.net.ssl.trustStore=mystore -Djavax.net.ssl.trustStorePassword=...\\n      # or a non-validating connection might be used (for testing) :\\n      #  :sslfactory = \\'org.postgresql.ssl.NonValidatingFactory\\'\\n      properties[\\'ssl\\'] ||= \\'true\\' if sslmode == true || sslmode.to_s == \\'require\\'\\n    end\\n    properties[\\'tcpKeepAlive\\'] ||= config[:keepalives] if config.key?(:keepalives)\\n    properties[\\'kerberosServerName\\'] ||= config[:krbsrvname] if config[:krbsrvname]\\n\\n    config[:driver] ||= defined?(::Jdbc::Postgres.driver_name) ? ::Jdbc::Postgres.driver_name : \\'org.postgresql.Driver\\'\\n    config[:adapter_spec] ||= ::ArJdbc::PostgreSQL\\n    config[:adapter_class] = ActiveRecord::ConnectionAdapters::PostgreSQLAdapter unless config.key?(:adapter_class)\\n\\n    jdbc_connection(config)\\n  end\\n  alias_method :jdbcpostgresql_connection, :postgresql_connection\\nend\\n'}"
      ]
     },
     "execution_count": 120,
     "metadata": {},
     "output_type": "execute_result"
    }
   ],
   "source": [
    "ds_final[0]"
   ]
  }
 ],
 "metadata": {
  "kernelspec": {
   "display_name": "base",
   "language": "python",
   "name": "python3"
  },
  "language_info": {
   "codemirror_mode": {
    "name": "ipython",
    "version": 3
   },
   "file_extension": ".py",
   "mimetype": "text/x-python",
   "name": "python",
   "nbconvert_exporter": "python",
   "pygments_lexer": "ipython3",
   "version": "3.7.12"
  },
  "orig_nbformat": 4,
  "vscode": {
   "interpreter": {
    "hash": "d4d1e4263499bec80672ea0156c357c1ee493ec2b1c70f0acce89fc37c4a6abe"
   }
  }
 },
 "nbformat": 4,
 "nbformat_minor": 2
}
